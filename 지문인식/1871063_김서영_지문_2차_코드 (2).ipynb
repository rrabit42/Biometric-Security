{
  "nbformat": 4,
  "nbformat_minor": 0,
  "metadata": {
    "colab": {
      "name": "1871063_김서영_지문_2차_코드.ipynb",
      "provenance": [],
      "collapsed_sections": []
    },
    "kernelspec": {
      "name": "python3",
      "display_name": "Python 3"
    },
    "language_info": {
      "name": "python"
    },
    "accelerator": "GPU"
  },
  "cells": [
    {
      "cell_type": "code",
      "metadata": {
        "colab": {
          "base_uri": "https://localhost:8080/"
        },
        "id": "hKKczZqcZLpU",
        "outputId": "fd560313-dd0b-4c77-8c56-cff9f433286d"
      },
      "source": [
        "from google.colab import drive\n",
        "drive.mount('/content/drive')"
      ],
      "execution_count": 1,
      "outputs": [
        {
          "output_type": "stream",
          "text": [
            "Mounted at /content/drive\n"
          ],
          "name": "stdout"
        }
      ]
    },
    {
      "cell_type": "code",
      "metadata": {
        "id": "zYkCgFOe22Q4"
      },
      "source": [
        "# [1] 패키지를 불러오기\n",
        "\n",
        "from keras import layers  # 각 계층을 만드는 모듈\n",
        "from keras import models  # 각 계층을 연결하여 신경망 모델을 만든 후, 컴파일하고 학습시키는 모듈\n",
        "                          # complie(), fit(), predict(), evaluate() 등 딥러닝 처리 함수 대부분을 제공함\n"
      ],
      "execution_count": 2,
      "outputs": []
    },
    {
      "cell_type": "code",
      "metadata": {
        "colab": {
          "base_uri": "https://localhost:8080/",
          "height": 321
        },
        "id": "QqHUNIJi5L5b",
        "outputId": "2bf72e9b-b1ff-44c6-9992-0ef4197ef6d7"
      },
      "source": [
        "!pip install scipy==1.1.0"
      ],
      "execution_count": 3,
      "outputs": [
        {
          "output_type": "stream",
          "text": [
            "Collecting scipy==1.1.0\n",
            "\u001b[?25l  Downloading https://files.pythonhosted.org/packages/40/de/0c22c6754370ba6b1fa8e53bd6e514d4a41a181125d405a501c215cbdbd6/scipy-1.1.0-cp37-cp37m-manylinux1_x86_64.whl (31.2MB)\n",
            "\u001b[K     |████████████████████████████████| 31.2MB 108kB/s \n",
            "\u001b[?25hRequirement already satisfied: numpy>=1.8.2 in /usr/local/lib/python3.7/dist-packages (from scipy==1.1.0) (1.19.5)\n",
            "\u001b[31mERROR: pymc3 3.11.2 has requirement scipy>=1.2.0, but you'll have scipy 1.1.0 which is incompatible.\u001b[0m\n",
            "\u001b[31mERROR: plotnine 0.6.0 has requirement scipy>=1.2.0, but you'll have scipy 1.1.0 which is incompatible.\u001b[0m\n",
            "\u001b[31mERROR: albumentations 0.1.12 has requirement imgaug<0.2.7,>=0.2.5, but you'll have imgaug 0.2.9 which is incompatible.\u001b[0m\n",
            "Installing collected packages: scipy\n",
            "  Found existing installation: scipy 1.4.1\n",
            "    Uninstalling scipy-1.4.1:\n",
            "      Successfully uninstalled scipy-1.4.1\n",
            "Successfully installed scipy-1.1.0\n"
          ],
          "name": "stdout"
        },
        {
          "output_type": "display_data",
          "data": {
            "application/vnd.colab-display-data+json": {
              "pip_warning": {
                "packages": [
                  "scipy"
                ]
              }
            }
          },
          "metadata": {
            "tags": []
          }
        }
      ]
    },
    {
      "cell_type": "code",
      "metadata": {
        "id": "6-AN5mP04_nX"
      },
      "source": [
        "import os\n",
        "import numpy as np\n",
        "import pandas as pd\n",
        "import tensorflow as tf\n",
        "from PIL import Image\n",
        "from scipy.misc.pilutil import imread, imresize"
      ],
      "execution_count": 4,
      "outputs": []
    },
    {
      "cell_type": "code",
      "metadata": {
        "id": "DIJZkNiGAgYS"
      },
      "source": [
        "# [2] 필요한 파라미터 설정\n",
        "# 후반의 main()에서 설정\n",
        "# Nin 입력 계층 노드 수, number_of_class 출력값이 가질 클래스 수, Nout 출력 노드 수"
      ],
      "execution_count": 5,
      "outputs": []
    },
    {
      "cell_type": "code",
      "metadata": {
        "id": "etT-HYZOpbFf"
      },
      "source": [
        "# 탐지 결과(reacll, precision, f1-score)를 위한 함수들\n",
        "from keras import backend as K\n",
        "\n",
        "def recall(y_target, y_pred):\n",
        "    # clip(t, clip_value_min, clip_value_max) : clip_value_min~clip_value_max 이외 가장자리를 깎아 낸다\n",
        "    # round : 반올림한다\n",
        "    y_target_yn = K.round(K.clip(y_target, 0, 1)) # 실제값을 0(Negative) 또는 1(Positive)로 설정한다\n",
        "    y_pred_yn = K.round(K.clip(y_pred, 0, 1)) # 예측값을 0(Negative) 또는 1(Positive)로 설정한다\n",
        "\n",
        "    # True Positive는 실제 값과 예측 값이 모두 1(Positive)인 경우이다\n",
        "    count_true_positive = K.sum(y_target_yn * y_pred_yn) \n",
        "\n",
        "    # (True Positive + False Negative) = 실제 값이 1(Positive) 전체\n",
        "    count_true_positive_false_negative = K.sum(y_target_yn)\n",
        "\n",
        "    # Recall =  (True Positive) / (True Positive + False Negative)\n",
        "    # K.epsilon()는 'divide by zero error' 예방차원에서 작은 수를 더한다\n",
        "    recall = count_true_positive / (count_true_positive_false_negative + K.epsilon())\n",
        "\n",
        "    # return a single tensor value\n",
        "    return recall\n",
        "\n",
        "\n",
        "def precision(y_target, y_pred):\n",
        "    # clip(t, clip_value_min, clip_value_max) : clip_value_min~clip_value_max 이외 가장자리를 깎아 낸다\n",
        "    # round : 반올림한다\n",
        "    y_pred_yn = K.round(K.clip(y_pred, 0, 1)) # 예측값을 0(Negative) 또는 1(Positive)로 설정한다\n",
        "    y_target_yn = K.round(K.clip(y_target, 0, 1)) # 실제값을 0(Negative) 또는 1(Positive)로 설정한다\n",
        "\n",
        "    # True Positive는 실제 값과 예측 값이 모두 1(Positive)인 경우이다\n",
        "    count_true_positive = K.sum(y_target_yn * y_pred_yn) \n",
        "\n",
        "    # (True Positive + False Positive) = 예측 값이 1(Positive) 전체\n",
        "    count_true_positive_false_positive = K.sum(y_pred_yn)\n",
        "\n",
        "    # Precision = (True Positive) / (True Positive + False Positive)\n",
        "    # K.epsilon()는 'divide by zero error' 예방차원에서 작은 수를 더한다\n",
        "    precision = count_true_positive / (count_true_positive_false_positive + K.epsilon())\n",
        "\n",
        "    # return a single tensor value\n",
        "    return precision\n",
        "\n",
        "\n",
        "def f1score(y_target, y_pred):\n",
        "    _recall = recall(y_target, y_pred)\n",
        "    _precision = precision(y_target, y_pred)\n",
        "    # K.epsilon()는 'divide by zero error' 예방차원에서 작은 수를 더한다\n",
        "    _f1score = ( 2 * _recall * _precision) / (_recall + _precision+ K.epsilon())\n",
        "    \n",
        "    # return a single tensor value\n",
        "    return _f1score"
      ],
      "execution_count": 13,
      "outputs": []
    },
    {
      "cell_type": "code",
      "metadata": {
        "id": "tdWvo9JwAqlB"
      },
      "source": [
        "# [3] 모델 구현\n",
        "# 신경망을 연쇄 방식의 모델링을 포함하는 함수형 구현\n",
        "# 모델 참조: https://www.datacamp.com/community/tutorials/fingerprint-deep-learning\n",
        "\n",
        "def AutoEncoder_seq_func(W, H, Nout):\n",
        "  model = models.Sequential([\n",
        "  # Encoder\n",
        "  layers.Conv2D(32, (3,3), activation='relu', padding=\"same\", input_shape=(W, H, 1)),\n",
        "  layers.MaxPooling2D(pool_size=(2,2)),\n",
        "  layers.Conv2D(64, (3,3), activation='relu', padding=\"same\"),\n",
        "  layers.MaxPooling2D(pool_size=(2,2)),\n",
        "  layers.Conv2D(128, (3,3), activation='relu', padding=\"same\"),\n",
        "  # Decoder\n",
        "  layers.Conv2D(128, (3,3), activation='relu', padding=\"same\"),\n",
        "  layers.UpSampling2D((2,2)),\n",
        "  layers.Conv2D(64, (3,3), activation='relu', padding=\"same\"),\n",
        "  layers.UpSampling2D((2,2)),\n",
        "  layers.Flatten(),\n",
        "  layers.Dense(Nout, activation='softmax')\n",
        "  ])\n",
        "\n",
        "  model.compile(loss='categorical_crossentropy',\n",
        "                optimizer='adam',\n",
        "                metrics=['accuracy', precision, recall, f1score])\n",
        "  return model"
      ],
      "execution_count": 14,
      "outputs": []
    },
    {
      "cell_type": "code",
      "metadata": {
        "id": "ZQN3Sjog7vfA"
      },
      "source": [
        "# [4] 데이터 불러오기 - train\n",
        "\n",
        "import numpy as np\n",
        "from keras.utils import np_utils  # to_categorical\n",
        "from sklearn.model_selection import train_test_split\n",
        "\n",
        "def Data_func(W, H, Nout):\n",
        "  train_dir = './drive/MyDrive/01_finger_training'\n",
        "  # 파일 리스트\n",
        "  file_list = os.listdir(train_dir)\n",
        "\n",
        "  images = []\n",
        "  labels = []\n",
        "  for name in file_list:\n",
        "    label = name.split(' ')[0]\n",
        "    image = imread(train_dir+\"/\"+name)\n",
        "    image = imresize(image, (W,H))\n",
        "    images.append(image)\n",
        "    labels.append(int(label))\n",
        "  \n",
        "  images_arr = np.asarray(images)\n",
        "  images_arr = images_arr.astype('float32')\n",
        "\n",
        "  # 1~9의 숫자로 된 출력값을 이진수(0/1)로 표현되는 벡터로 바꿈 (더 효율적)\n",
        "  # 원핫인코딩\n",
        "  labels = np_utils.to_categorical(labels, num_classes = Nout)\n",
        "\n",
        "  images_arr = images_arr.reshape(-1,W,H,1)\n",
        "  images_arr = images_arr / np.max(images_arr) # 정규화: 0~255로 되어 있는 입력값을 0~1로 바꿔줌(성능 최적화를 위함)\n",
        "\n",
        "  train_X, test_X, train_Y, test_Y = train_test_split(images_arr, labels, test_size=0.2, random_state=13)\n",
        "  \n",
        "  return (train_X, train_Y), (test_X, test_Y)"
      ],
      "execution_count": 15,
      "outputs": []
    },
    {
      "cell_type": "code",
      "metadata": {
        "id": "HRCyFW2tCNYZ"
      },
      "source": [
        "# [5] 학습 결과 분석을 위한 그래프 구현(pytoch, keras 모두 쓸 수 있음)\n",
        "\n",
        "import matplotlib.pyplot as plt\n",
        "\n",
        "def plot_acc(history, title=None):\n",
        "  # summarize history for accuracy\n",
        "  if not isinstance(history, dict):\n",
        "    history = history.history\n",
        "  plt.plot(history['accuracy'])\n",
        "  plt.plot(history['val_accuracy'])\n",
        "  if title is not None:\n",
        "    plt.title(title)\n",
        "  plt.ylabel('Accuracy')\n",
        "  plt.xlabel('Epoch')\n",
        "  plt.legend(['Training', 'Verification'], loc=0)   # 두 선의 이름(Train, Test) 표시\n",
        "\n",
        "def plot_loss(history, title=None):\n",
        "  # summarize history for loss\n",
        "  if not isinstance(history, dict):\n",
        "    history = history.history\n",
        "  plt.plot(history['loss'])             # 학습 데이터로 구한 손실값\n",
        "  plt.plot(history['val_loss'])         # 검증 데이터로 구한 손실값\n",
        "  if title is not None:\n",
        "    plt.title(title)\n",
        "  plt.ylabel('Loss')\n",
        "  plt.xlabel('Epoch')\n",
        "  plt.legend(['Training', 'Verification'], loc=0)"
      ],
      "execution_count": 16,
      "outputs": []
    },
    {
      "cell_type": "code",
      "metadata": {
        "id": "75KTk3SMlcMo"
      },
      "source": [
        "# [6] 교차 검증\n",
        "\n",
        "from sklearn.model_selection import KFold\n",
        "\n",
        "def cross_validation(X_train, Y_train, W, H, Nout, epochs, batch_size):\n",
        "  # 교차 검증\n",
        "\n",
        "  # Define per-fold score containers\n",
        "  acc_per_fold = []\n",
        "  loss_per_fold = []\n",
        "  # cross validation\n",
        "  # Define the K-fold Cross Validator\n",
        "  kfold = KFold(n_splits=5, shuffle=True)\n",
        "\n",
        "  # K-fold Cross Validation model evaluation\n",
        "  fold_no = 1\n",
        "\n",
        "  for train, test in kfold.split(X_train, Y_train):\n",
        "\n",
        "    # Define the model architecture\n",
        "    model = AutoEncoder_seq_func(W, H, Nout)\n",
        "\n",
        "    # Generate a print\n",
        "    print('------------------------------------------------------------------------')\n",
        "    print(f'Training for fold {fold_no} ...')\n",
        "\n",
        "    # Fit data to model\n",
        "    history = model.fit(X_train[train], Y_train[train],\n",
        "                        batch_size=batch_size,\n",
        "                        epochs=epochs,\n",
        "                        verbose=0)\n",
        "\n",
        "    # Generate generalization metrics\n",
        "    scores = model.evaluate(X_train[test], Y_train[test], verbose=0)\n",
        "    print(f'Score for fold {fold_no}: {model.metrics_names[0]} of {scores[0]}; {model.metrics_names[1]} of {scores[1]*100}%')\n",
        "    acc_per_fold.append(scores[1] * 100)\n",
        "    loss_per_fold.append(scores[0])\n",
        "\n",
        "    # Increase fold number\n",
        "    fold_no = fold_no + 1\n",
        "\n",
        "  # == Provide average scores ==\n",
        "  print('------------------------------------------------------------------------')\n",
        "  print('Score per fold')\n",
        "  for i in range(0, len(acc_per_fold)):\n",
        "    print('------------------------------------------------------------------------')\n",
        "    print(f'> Fold {i+1} - Loss: {loss_per_fold[i]} - Accuracy: {acc_per_fold[i]}%')\n",
        "  print('------------------------------------------------------------------------')\n",
        "  print('Average scores for all folds:')\n",
        "  print(f'> Accuracy: {np.mean(acc_per_fold)} (+- {np.std(acc_per_fold)})')\n",
        "  print(f'> Loss: {np.mean(loss_per_fold)}')\n",
        "  print('------------------------------------------------------------------------')\n"
      ],
      "execution_count": 17,
      "outputs": []
    },
    {
      "cell_type": "code",
      "metadata": {
        "id": "q2An-87QmVs3"
      },
      "source": [
        "# [7] 답안지 제출 코드 구현\n",
        "\n",
        "def Answer_csv(model, W, H):\n",
        "  test_dir = './drive/MyDrive/01_finger_test'\n",
        "  file_list = os.listdir(test_dir)\n",
        "\n",
        "  dataset = []\n",
        "  names = []\n",
        "\n",
        "  for file in file_list:\n",
        "    name = file.split('.')[0]\n",
        "    data = imread(test_dir+\"/\"+file)\n",
        "    data = imresize(data, (W,H))\n",
        "    dataset.append(data)\n",
        "    names.append(int(name))\n",
        "\n",
        "  dataset = np.asarray(dataset)\n",
        "  dataset = dataset.astype('float32')\n",
        "\n",
        "  dataset = dataset.reshape(-1,W,H,1)\n",
        "  dataset = dataset / np.max(dataset) # 정규화: 0~255로 되어 있는 입력값을 0~1로 바꿔줌(성능 최적화를 위함)\n",
        "\n",
        "  y = model.predict_classes(dataset)\n",
        "  print(names)\n",
        "  print(y)\n"
      ],
      "execution_count": 18,
      "outputs": []
    },
    {
      "cell_type": "code",
      "metadata": {
        "colab": {
          "base_uri": "https://localhost:8080/",
          "height": 1000
        },
        "id": "9c5K8unxC7wR",
        "outputId": "b9e9227d-b5b1-49e8-dec1-504a9f70d4b3"
      },
      "source": [
        "# [8] 학습 및 성능 분석\n",
        "\n",
        "from sklearn.model_selection import StratifiedKFold\n",
        "from sklearn.model_selection import cross_validate\n",
        "\n",
        "def main():\n",
        "  # 파라미터 설정\n",
        "  # number_of_class 출력값이 가질 클래스 수, Nout 출력 노드 수\n",
        "  number_of_class = 9\n",
        "  Nout = number_of_class\n",
        "\n",
        "  epochs = 20       # 25\n",
        "  batch_size = 20  # 128\n",
        "\n",
        "  W = 144           # 288\n",
        "  H = 144           # 288\n",
        "\n",
        "  # 모델 설정\n",
        "  model = AutoEncoder_seq_func(W, H, Nout)\n",
        "  (X_train, Y_train), (X_test, Y_test) = Data_func(W, H, Nout)\n",
        "\n",
        "  # 학습하기(cross_validation 필요)\n",
        "  history = model.fit(X_train, Y_train, epochs=epochs, batch_size=batch_size, validation_split=0.2)\n",
        "\n",
        "  # 교차 검증\n",
        "  cross_validation(X_train, Y_train, W, H, Nout, epochs, batch_size)\n",
        "  \n",
        "  # 테스트 데이터 측정\n",
        "  performance_test = model.evaluate(X_test, Y_test, batch_size=20)\n",
        "  print('Test Loss -->', performance_test[0])\n",
        "  print('Test Accuracy -->', performance_test[1])\n",
        "  print('Test Precision -->', performance_test[2])\n",
        "  print('Test Recall -->', performance_test[3])\n",
        "  print('Test F1-score -->', performance_test[4])\n",
        "\n",
        "  plot_loss(history)\n",
        "  plt.show()\n",
        "  plot_acc(history)\n",
        "  plt.show()\n",
        "\n",
        "  # CSV 결과 제출용\n",
        "  Answer_csv(model, W, H)\n",
        "\n",
        "# main() 코드 실행하기\n",
        "if __name__ == '__main__':\n",
        "  main()"
      ],
      "execution_count": 24,
      "outputs": [
        {
          "output_type": "stream",
          "text": [
            "/usr/local/lib/python3.7/dist-packages/ipykernel_launcher.py:16: DeprecationWarning:     `imread` is deprecated!\n",
            "    `imread` is deprecated in SciPy 1.0.0, and will be removed in 1.2.0.\n",
            "    Use ``imageio.imread`` instead.\n",
            "  app.launch_new_instance()\n",
            "/usr/local/lib/python3.7/dist-packages/ipykernel_launcher.py:17: DeprecationWarning:     `imresize` is deprecated!\n",
            "    `imresize` is deprecated in SciPy 1.0.0, and will be removed in 1.2.0.\n",
            "    Use ``skimage.transform.resize`` instead.\n"
          ],
          "name": "stderr"
        },
        {
          "output_type": "stream",
          "text": [
            "Epoch 1/20\n",
            "2/3 [===================>..........] - ETA: 0s - loss: 5.3489 - accuracy: 0.1875 - precision: 0.2500 - recall: 0.0375 - f1score: 0.0652            WARNING:tensorflow:7 out of the last 27 calls to <function Model.make_test_function.<locals>.test_function at 0x7fe8667535f0> triggered tf.function retracing. Tracing is expensive and the excessive number of tracings could be due to (1) creating @tf.function repeatedly in a loop, (2) passing tensors with different shapes, (3) passing Python objects instead of tensors. For (1), please define your @tf.function outside of the loop. For (2), @tf.function has experimental_relax_shapes=True option that relaxes argument shapes that can avoid unnecessary retracing. For (3), please refer to https://www.tensorflow.org/guide/function#controlling_retracing and https://www.tensorflow.org/api_docs/python/tf/function for  more details.\n",
            "3/3 [==============================] - 1s 193ms/step - loss: 6.2587 - accuracy: 0.2114 - precision: 0.2917 - recall: 0.0438 - f1score: 0.0761 - val_loss: 2.0141 - val_accuracy: 0.3077 - val_precision: 0.0000e+00 - val_recall: 0.0000e+00 - val_f1score: 0.0000e+00\n",
            "Epoch 2/20\n",
            "3/3 [==============================] - 0s 62ms/step - loss: 2.0171 - accuracy: 0.2864 - precision: 0.0000e+00 - recall: 0.0000e+00 - f1score: 0.0000e+00 - val_loss: 2.0382 - val_accuracy: 0.4615 - val_precision: 0.0000e+00 - val_recall: 0.0000e+00 - val_f1score: 0.0000e+00\n",
            "Epoch 3/20\n",
            "3/3 [==============================] - 0s 58ms/step - loss: 1.7523 - accuracy: 0.5718 - precision: 0.0000e+00 - recall: 0.0000e+00 - f1score: 0.0000e+00 - val_loss: 1.4132 - val_accuracy: 0.7692 - val_precision: 0.0000e+00 - val_recall: 0.0000e+00 - val_f1score: 0.0000e+00\n",
            "Epoch 4/20\n",
            "3/3 [==============================] - 0s 55ms/step - loss: 1.4453 - accuracy: 0.7181 - precision: 0.2917 - recall: 0.0875 - f1score: 0.1346 - val_loss: 1.1827 - val_accuracy: 0.6923 - val_precision: 1.0000 - val_recall: 0.0769 - val_f1score: 0.1429\n",
            "Epoch 5/20\n",
            "3/3 [==============================] - 0s 53ms/step - loss: 0.9163 - accuracy: 0.7761 - precision: 1.0000 - recall: 0.3710 - f1score: 0.5243 - val_loss: 0.4361 - val_accuracy: 1.0000 - val_precision: 1.0000 - val_recall: 0.8462 - val_f1score: 0.9167\n",
            "Epoch 6/20\n",
            "3/3 [==============================] - 0s 52ms/step - loss: 0.3485 - accuracy: 1.0000 - precision: 1.0000 - recall: 0.9000 - f1score: 0.9444 - val_loss: 0.0824 - val_accuracy: 1.0000 - val_precision: 1.0000 - val_recall: 1.0000 - val_f1score: 1.0000\n",
            "Epoch 7/20\n",
            "3/3 [==============================] - 0s 53ms/step - loss: 0.0715 - accuracy: 1.0000 - precision: 1.0000 - recall: 1.0000 - f1score: 1.0000 - val_loss: 0.1020 - val_accuracy: 1.0000 - val_precision: 1.0000 - val_recall: 1.0000 - val_f1score: 1.0000\n",
            "Epoch 8/20\n",
            "3/3 [==============================] - 0s 55ms/step - loss: 0.1111 - accuracy: 1.0000 - precision: 1.0000 - recall: 1.0000 - f1score: 1.0000 - val_loss: 0.0282 - val_accuracy: 1.0000 - val_precision: 1.0000 - val_recall: 1.0000 - val_f1score: 1.0000\n",
            "Epoch 9/20\n",
            "3/3 [==============================] - 0s 53ms/step - loss: 0.0704 - accuracy: 1.0000 - precision: 1.0000 - recall: 0.9854 - f1score: 0.9925 - val_loss: 0.0159 - val_accuracy: 1.0000 - val_precision: 1.0000 - val_recall: 1.0000 - val_f1score: 1.0000\n",
            "Epoch 10/20\n",
            "3/3 [==============================] - 0s 52ms/step - loss: 0.0465 - accuracy: 1.0000 - precision: 1.0000 - recall: 1.0000 - f1score: 1.0000 - val_loss: 0.0025 - val_accuracy: 1.0000 - val_precision: 1.0000 - val_recall: 1.0000 - val_f1score: 1.0000\n",
            "Epoch 11/20\n",
            "3/3 [==============================] - 0s 53ms/step - loss: 0.0012 - accuracy: 1.0000 - precision: 1.0000 - recall: 1.0000 - f1score: 1.0000 - val_loss: 0.0422 - val_accuracy: 1.0000 - val_precision: 1.0000 - val_recall: 1.0000 - val_f1score: 1.0000\n",
            "Epoch 12/20\n",
            "3/3 [==============================] - 0s 53ms/step - loss: 0.0248 - accuracy: 1.0000 - precision: 1.0000 - recall: 1.0000 - f1score: 1.0000 - val_loss: 0.0032 - val_accuracy: 1.0000 - val_precision: 1.0000 - val_recall: 1.0000 - val_f1score: 1.0000\n",
            "Epoch 13/20\n",
            "3/3 [==============================] - 0s 52ms/step - loss: 8.4498e-04 - accuracy: 1.0000 - precision: 1.0000 - recall: 1.0000 - f1score: 1.0000 - val_loss: 7.9863e-04 - val_accuracy: 1.0000 - val_precision: 1.0000 - val_recall: 1.0000 - val_f1score: 1.0000\n",
            "Epoch 14/20\n",
            "3/3 [==============================] - 0s 53ms/step - loss: 2.8064e-04 - accuracy: 1.0000 - precision: 1.0000 - recall: 1.0000 - f1score: 1.0000 - val_loss: 4.6358e-04 - val_accuracy: 1.0000 - val_precision: 1.0000 - val_recall: 1.0000 - val_f1score: 1.0000\n",
            "Epoch 15/20\n",
            "3/3 [==============================] - 0s 54ms/step - loss: 2.2544e-04 - accuracy: 1.0000 - precision: 1.0000 - recall: 1.0000 - f1score: 1.0000 - val_loss: 4.1295e-04 - val_accuracy: 1.0000 - val_precision: 1.0000 - val_recall: 1.0000 - val_f1score: 1.0000\n",
            "Epoch 16/20\n",
            "3/3 [==============================] - 0s 52ms/step - loss: 3.0402e-04 - accuracy: 1.0000 - precision: 1.0000 - recall: 1.0000 - f1score: 1.0000 - val_loss: 5.2637e-04 - val_accuracy: 1.0000 - val_precision: 1.0000 - val_recall: 1.0000 - val_f1score: 1.0000\n",
            "Epoch 17/20\n",
            "3/3 [==============================] - 0s 56ms/step - loss: 1.9185e-04 - accuracy: 1.0000 - precision: 1.0000 - recall: 1.0000 - f1score: 1.0000 - val_loss: 7.8994e-04 - val_accuracy: 1.0000 - val_precision: 1.0000 - val_recall: 1.0000 - val_f1score: 1.0000\n",
            "Epoch 18/20\n",
            "3/3 [==============================] - 0s 56ms/step - loss: 1.2603e-04 - accuracy: 1.0000 - precision: 1.0000 - recall: 1.0000 - f1score: 1.0000 - val_loss: 9.4473e-04 - val_accuracy: 1.0000 - val_precision: 1.0000 - val_recall: 1.0000 - val_f1score: 1.0000\n",
            "Epoch 19/20\n",
            "3/3 [==============================] - 0s 54ms/step - loss: 1.0241e-04 - accuracy: 1.0000 - precision: 1.0000 - recall: 1.0000 - f1score: 1.0000 - val_loss: 8.8992e-04 - val_accuracy: 1.0000 - val_precision: 1.0000 - val_recall: 1.0000 - val_f1score: 1.0000\n",
            "Epoch 20/20\n",
            "3/3 [==============================] - 0s 51ms/step - loss: 6.0568e-05 - accuracy: 1.0000 - precision: 1.0000 - recall: 1.0000 - f1score: 1.0000 - val_loss: 5.5501e-04 - val_accuracy: 1.0000 - val_precision: 1.0000 - val_recall: 1.0000 - val_f1score: 1.0000\n",
            "------------------------------------------------------------------------\n",
            "Training for fold 1 ...\n",
            "Score for fold 1: loss of 0.00824159849435091; accuracy of 100.0%\n",
            "------------------------------------------------------------------------\n",
            "Training for fold 2 ...\n",
            "Score for fold 2: loss of 0.0016205840511247516; accuracy of 100.0%\n",
            "------------------------------------------------------------------------\n",
            "Training for fold 3 ...\n",
            "Score for fold 3: loss of 0.03605024144053459; accuracy of 100.0%\n",
            "------------------------------------------------------------------------\n",
            "Training for fold 4 ...\n",
            "WARNING:tensorflow:5 out of the last 24 calls to <function Model.make_test_function.<locals>.test_function at 0x7fe87027aa70> triggered tf.function retracing. Tracing is expensive and the excessive number of tracings could be due to (1) creating @tf.function repeatedly in a loop, (2) passing tensors with different shapes, (3) passing Python objects instead of tensors. For (1), please define your @tf.function outside of the loop. For (2), @tf.function has experimental_relax_shapes=True option that relaxes argument shapes that can avoid unnecessary retracing. For (3), please refer to https://www.tensorflow.org/guide/function#controlling_retracing and https://www.tensorflow.org/api_docs/python/tf/function for  more details.\n",
            "Score for fold 4: loss of 0.0004133107722736895; accuracy of 100.0%\n",
            "------------------------------------------------------------------------\n",
            "Training for fold 5 ...\n",
            "WARNING:tensorflow:6 out of the last 25 calls to <function Model.make_test_function.<locals>.test_function at 0x7fe86e3b73b0> triggered tf.function retracing. Tracing is expensive and the excessive number of tracings could be due to (1) creating @tf.function repeatedly in a loop, (2) passing tensors with different shapes, (3) passing Python objects instead of tensors. For (1), please define your @tf.function outside of the loop. For (2), @tf.function has experimental_relax_shapes=True option that relaxes argument shapes that can avoid unnecessary retracing. For (3), please refer to https://www.tensorflow.org/guide/function#controlling_retracing and https://www.tensorflow.org/api_docs/python/tf/function for  more details.\n",
            "Score for fold 5: loss of 3.0497451461997116e-06; accuracy of 100.0%\n",
            "------------------------------------------------------------------------\n",
            "Score per fold\n",
            "------------------------------------------------------------------------\n",
            "> Fold 1 - Loss: 0.00824159849435091 - Accuracy: 100.0%\n",
            "------------------------------------------------------------------------\n",
            "> Fold 2 - Loss: 0.0016205840511247516 - Accuracy: 100.0%\n",
            "------------------------------------------------------------------------\n",
            "> Fold 3 - Loss: 0.03605024144053459 - Accuracy: 100.0%\n",
            "------------------------------------------------------------------------\n",
            "> Fold 4 - Loss: 0.0004133107722736895 - Accuracy: 100.0%\n",
            "------------------------------------------------------------------------\n",
            "> Fold 5 - Loss: 3.0497451461997116e-06 - Accuracy: 100.0%\n",
            "------------------------------------------------------------------------\n",
            "Average scores for all folds:\n",
            "> Accuracy: 100.0 (+- 0.0)\n",
            "> Loss: 0.00926575690068603\n",
            "------------------------------------------------------------------------\n",
            "1/1 [==============================] - 0s 25ms/step - loss: 3.9570e-04 - accuracy: 1.0000 - precision: 1.0000 - recall: 1.0000 - f1score: 1.0000\n",
            "Test Loss --> 0.0003957013541366905\n",
            "Test Accuracy --> 1.0\n",
            "Test Precision --> 1.0\n",
            "Test Recall --> 1.0\n",
            "Test F1-score --> 1.0\n"
          ],
          "name": "stdout"
        },
        {
          "output_type": "display_data",
          "data": {
            "image/png": "[encoded data removed]",
            "text/plain": [
              "<Figure size 432x288 with 1 Axes>"
            ]
          },
          "metadata": {
            "tags": [],
            "needs_background": "light"
          }
        },
        {
          "output_type": "display_data",
          "data": {
            "image/png": "[encoded data removed]",
            "text/plain": [
              "<Figure size 432x288 with 1 Axes>"
            ]
          },
          "metadata": {
            "tags": [],
            "needs_background": "light"
          }
        },
        {
          "output_type": "stream",
          "text": [
            "/usr/local/lib/python3.7/dist-packages/ipykernel_launcher.py:12: DeprecationWarning:     `imread` is deprecated!\n",
            "    `imread` is deprecated in SciPy 1.0.0, and will be removed in 1.2.0.\n",
            "    Use ``imageio.imread`` instead.\n",
            "  if sys.path[0] == '':\n",
            "/usr/local/lib/python3.7/dist-packages/ipykernel_launcher.py:13: DeprecationWarning:     `imresize` is deprecated!\n",
            "    `imresize` is deprecated in SciPy 1.0.0, and will be removed in 1.2.0.\n",
            "    Use ``skimage.transform.resize`` instead.\n",
            "  del sys.path[0]\n",
            "/usr/local/lib/python3.7/dist-packages/tensorflow/python/keras/engine/sequential.py:450: UserWarning: `model.predict_classes()` is deprecated and will be removed after 2021-01-01. Please use instead:* `np.argmax(model.predict(x), axis=-1)`,   if your model does multi-class classification   (e.g. if it uses a `softmax` last-layer activation).* `(model.predict(x) > 0.5).astype(\"int32\")`,   if your model does binary classification   (e.g. if it uses a `sigmoid` last-layer activation).\n",
            "  warnings.warn('`model.predict_classes()` is deprecated and '\n"
          ],
          "name": "stderr"
        },
        {
          "output_type": "stream",
          "text": [
            "WARNING:tensorflow:5 out of the last 13 calls to <function Model.make_predict_function.<locals>.predict_function at 0x7fe8667938c0> triggered tf.function retracing. Tracing is expensive and the excessive number of tracings could be due to (1) creating @tf.function repeatedly in a loop, (2) passing tensors with different shapes, (3) passing Python objects instead of tensors. For (1), please define your @tf.function outside of the loop. For (2), @tf.function has experimental_relax_shapes=True option that relaxes argument shapes that can avoid unnecessary retracing. For (3), please refer to https://www.tensorflow.org/guide/function#controlling_retracing and https://www.tensorflow.org/api_docs/python/tf/function for  more details.\n",
            "[41, 1, 79, 64, 69, 43, 19, 26, 36, 67, 31, 25, 17, 24, 45, 50, 29, 77, 27, 60, 7, 9, 58, 18, 49, 59, 30, 28, 13, 33, 16, 74, 4, 11, 40, 8, 21, 44, 65, 71, 5, 76, 78, 22, 2, 15, 37, 62, 32, 61, 46, 57, 75, 14, 6, 12, 3, 23, 34, 56, 10, 48, 72, 55, 20, 66, 47, 73, 38, 68, 54, 52, 42, 80, 70, 51, 39, 63, 53, 35]\n",
            "[7 7 7 7 7 8 3 8 3 3 8 8 8 8 8 8 8 8 8 8 5 5 5 5 5 5 5 5 5 5 6 6 6 5 5 5 5\n",
            " 6 5 5 1 1 1 5 5 1 1 1 5 1 2 2 2 2 2 2 2 2 2 2 3 3 3 3 3 3 3 3 3 3 4 4 4 4\n",
            " 4 4 4 4 4 4]\n"
          ],
          "name": "stdout"
        }
      ]
    },
    {
      "cell_type": "code",
      "metadata": {
        "id": "Dalg0xx5DoqM"
      },
      "source": [
        ""
      ],
      "execution_count": null,
      "outputs": []
    },
    {
      "cell_type": "code",
      "metadata": {
        "id": "jL9mpbCApq1x"
      },
      "source": [
        ""
      ],
      "execution_count": null,
      "outputs": []
    }
  ]
}