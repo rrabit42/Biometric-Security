{
  "nbformat": 4,
  "nbformat_minor": 0,
  "metadata": {
    "colab": {
      "name": "Untitled1.ipynb",
      "provenance": [],
      "collapsed_sections": []
    },
    "kernelspec": {
      "name": "python3",
      "display_name": "Python 3"
    },
    "language_info": {
      "name": "python"
    },
    "accelerator": "GPU"
  },
  "cells": [
    {
      "cell_type": "code",
      "metadata": {
        "id": "zYkCgFOe22Q4"
      },
      "source": [
        "# [1] 패키지를 불러오기\n",
        "\n",
        "from keras import layers  # 각 계층을 만드는 모듈\n",
        "from keras import models  # 각 계층을 연결하여 신경망 모델을 만든 후, 컴파일하고 학습시키는 모듈\n",
        "                          # complie(), fit(), predict(), evaluate() 등 딥러닝 처리 함수 대부분을 제공함"
      ],
      "execution_count": 1,
      "outputs": []
    },
    {
      "cell_type": "code",
      "metadata": {
        "id": "DIJZkNiGAgYS"
      },
      "source": [
        "# [2] 필요한 파라미터 설정\n",
        "# 후반의 main()에서 설정\n",
        "# Nin 입력 계층 노드 수, Nh 은닉 계층 수, number_of_class 출력값이 가질 클래스 수, Nout 출력 노드 수"
      ],
      "execution_count": 2,
      "outputs": []
    },
    {
      "cell_type": "code",
      "metadata": {
        "id": "tdWvo9JwAqlB"
      },
      "source": [
        "# [3] 모델 구현\n",
        "# 신경망을 연쇄 방식의 모델링을 포함하는 함수형 구현\n",
        "\n",
        "def ANN_seq_func(Nin, Nh, Nout):\n",
        "  model = models.Sequential()\n",
        "  model.add(layers.Dense(Nh, activation='relu', input_shape=(Nin,)))\n",
        "  model.add(layers.Dense(Nout, activation='softmax'))\n",
        "  model.compile(loss='categorical_crossentropy',\n",
        "                optimizer='adam',\n",
        "                metrics=['accuracy'])\n",
        "  return model"
      ],
      "execution_count": 4,
      "outputs": []
    },
    {
      "cell_type": "code",
      "metadata": {
        "id": "PQWwxWlBA-uQ"
      },
      "source": [
        "# [4] 데이터 불러오기\n",
        "# Mnist 필기 숫자 데이터셋\n",
        "\n",
        "import numpy as np\n",
        "from keras import datasets # mnist\n",
        "from keras.utils import np_utils  # to_categorical\n",
        "\n",
        "def Data_func():\n",
        "  (X_train, y_train), (X_test, y_test) = datasets.mnist.load_data()\n",
        "\n",
        "  # 0~9의 숫자로 된 출력값을 이진수(0/1)로 표현되는 벡터로 바꿈 (더 효율적)\n",
        "  Y_train = np_utils.to_categorical(y_train)\n",
        "  Y_test = np_utils.to_categorical(y_test)\n",
        "\n",
        "  L, W, H = X_train.shape\n",
        "  X_train = X_train.reshape(-1, W*H)  # -1 행렬의 행을 자동으로 설정, 열수가 W*H로 지정\n",
        "  X_test = X_test.reshape(-1, W*H)\n",
        "\n",
        "  X_train = X_train/255.0             # 정규화: 0~255로 되어 있는 입력값을 0~1로 바꿔줌(성능 최적화를 위함)\n",
        "  X_test = X_test/255.0\n",
        "\n",
        "  return (X_train, Y_train), (X_test, Y_test)"
      ],
      "execution_count": 8,
      "outputs": []
    },
    {
      "cell_type": "code",
      "metadata": {
        "id": "HRCyFW2tCNYZ"
      },
      "source": [
        "# [5] 학습 결과 분석을 위한 그래프 구현(pytoch, keras 모두 쓸 수 있음)\n",
        "\n",
        "import matplotlib.pyplot as plt\n",
        "\n",
        "def plot_acc(history, title=None):\n",
        "  # summarize history for accuracy\n",
        "  if not isinstance(history, dict):\n",
        "    history = history.history\n",
        "  plt.plot(history['accuracy'])\n",
        "  plt.plot(history['val_accuracy'])\n",
        "  if title is not None:\n",
        "    plt.title(title)\n",
        "  plt.ylabel('Accuracy')\n",
        "  plt.xlabel('Epoch')\n",
        "  plt.legend(['Training', 'Verification'], loc=0)   # 두 선의 이름(Train, Test) 표시\n",
        "\n",
        "def plot_loss(history, title=None):\n",
        "  # summarize history for loss\n",
        "  if not isinstance(history, dict):\n",
        "    history = history.history\n",
        "  plt.plot(history['loss'])             # 학습 데이터로 구한 손실값\n",
        "  plt.plot(history['val_loss'])         # 검증 데이터로 구한 손실값\n",
        "  if title is not None:\n",
        "    plt.title(title)\n",
        "  plt.ylabel('Loss')\n",
        "  plt.xlabel('Epoch')\n",
        "  plt.legend(['Training', 'Verification'], loc=0)\n"
      ],
      "execution_count": 9,
      "outputs": []
    },
    {
      "cell_type": "code",
      "metadata": {
        "colab": {
          "base_uri": "https://localhost:8080/",
          "height": 1000
        },
        "id": "9c5K8unxC7wR",
        "outputId": "3a12c531-4ae7-4927-be99-cf4efbe54379"
      },
      "source": [
        "# [6] 학습 및 성능 분석\n",
        "\n",
        "def main():\n",
        "  # 파라미터 설정\n",
        "  # Nin 입력 계층 노드 수, Nh 은닉 계층 수, number_of_class 출력값이 가질 클래스 수, Nout 출력 노드 수\n",
        "  Nin = 784\n",
        "  Nh = 100    # 100\n",
        "  number_of_class = 10\n",
        "  Nout = number_of_class\n",
        "\n",
        "  # 모델 설정\n",
        "  model = ANN_seq_func(Nin, Nh, Nout)\n",
        "  (X_train, Y_train), (X_test, Y_test) = Data_func()\n",
        "\n",
        "  # 학습하기\n",
        "  history = model.fit(X_train, Y_train, epochs=15, batch_size=100, validation_split=0.2)\n",
        "  performance_test = model.evaluate(X_test, Y_test, batch_size=100)\n",
        "  print('Test Loss and Accuracy -->', performance_test)\n",
        "\n",
        "  plot_loss(history)\n",
        "  plt.show()\n",
        "  plot_acc(history)\n",
        "  plt.show()\n",
        "\n",
        "# main() 코드 실행하기\n",
        "if __name__ == '__main__':\n",
        "  main()"
      ],
      "execution_count": 13,
      "outputs": [
        {
          "output_type": "stream",
          "text": [
            "Epoch 1/15\n",
            "480/480 [==============================] - 2s 4ms/step - loss: 0.6780 - accuracy: 0.8160 - val_loss: 0.2079 - val_accuracy: 0.9409\n",
            "Epoch 2/15\n",
            "480/480 [==============================] - 2s 3ms/step - loss: 0.1902 - accuracy: 0.9457 - val_loss: 0.1511 - val_accuracy: 0.9590\n",
            "Epoch 3/15\n",
            "480/480 [==============================] - 2s 3ms/step - loss: 0.1355 - accuracy: 0.9622 - val_loss: 0.1272 - val_accuracy: 0.9642\n",
            "Epoch 4/15\n",
            "480/480 [==============================] - 2s 3ms/step - loss: 0.1056 - accuracy: 0.9702 - val_loss: 0.1118 - val_accuracy: 0.9685\n",
            "Epoch 5/15\n",
            "480/480 [==============================] - 2s 3ms/step - loss: 0.0850 - accuracy: 0.9764 - val_loss: 0.1079 - val_accuracy: 0.9690\n",
            "Epoch 6/15\n",
            "480/480 [==============================] - 2s 3ms/step - loss: 0.0693 - accuracy: 0.9806 - val_loss: 0.0986 - val_accuracy: 0.9718\n",
            "Epoch 7/15\n",
            "480/480 [==============================] - 2s 3ms/step - loss: 0.0559 - accuracy: 0.9846 - val_loss: 0.0938 - val_accuracy: 0.9729\n",
            "Epoch 8/15\n",
            "480/480 [==============================] - 2s 3ms/step - loss: 0.0465 - accuracy: 0.9878 - val_loss: 0.0910 - val_accuracy: 0.9736\n",
            "Epoch 9/15\n",
            "480/480 [==============================] - 2s 3ms/step - loss: 0.0433 - accuracy: 0.9879 - val_loss: 0.0932 - val_accuracy: 0.9723\n",
            "Epoch 10/15\n",
            "480/480 [==============================] - 2s 3ms/step - loss: 0.0342 - accuracy: 0.9907 - val_loss: 0.0858 - val_accuracy: 0.9758\n",
            "Epoch 11/15\n",
            "480/480 [==============================] - 2s 3ms/step - loss: 0.0294 - accuracy: 0.9927 - val_loss: 0.0887 - val_accuracy: 0.9737\n",
            "Epoch 12/15\n",
            "480/480 [==============================] - 2s 3ms/step - loss: 0.0264 - accuracy: 0.9929 - val_loss: 0.0955 - val_accuracy: 0.9736\n",
            "Epoch 13/15\n",
            "480/480 [==============================] - 2s 3ms/step - loss: 0.0237 - accuracy: 0.9940 - val_loss: 0.0981 - val_accuracy: 0.9743\n",
            "Epoch 14/15\n",
            "480/480 [==============================] - 2s 3ms/step - loss: 0.0181 - accuracy: 0.9958 - val_loss: 0.0933 - val_accuracy: 0.9740\n",
            "Epoch 15/15\n",
            "480/480 [==============================] - 2s 3ms/step - loss: 0.0159 - accuracy: 0.9965 - val_loss: 0.0855 - val_accuracy: 0.9760\n",
            "100/100 [==============================] - 0s 2ms/step - loss: 0.0820 - accuracy: 0.9763\n",
            "Test Loss and Accuracy --> [0.0820368230342865, 0.9763000011444092]\n"
          ],
          "name": "stdout"
        },
        {
          "output_type": "display_data",
          "data": {
            "image/png": "[encoded data removed]",
            "text/plain": [
              "<Figure size 432x288 with 1 Axes>"
            ]
          },
          "metadata": {
            "tags": [],
            "needs_background": "light"
          }
        },
        {
          "output_type": "display_data",
          "data": {
            "image/png": "[encoded data removed]",
            "text/plain": [
              "<Figure size 432x288 with 1 Axes>"
            ]
          },
          "metadata": {
            "tags": [],
            "needs_background": "light"
          }
        }
      ]
    },
    {
      "cell_type": "code",
      "metadata": {
        "id": "Dalg0xx5DoqM"
      },
      "source": [
        ""
      ],
      "execution_count": null,
      "outputs": []
    }
  ]
}